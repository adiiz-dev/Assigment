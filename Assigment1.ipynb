{
 "cells": [
  {
   "cell_type": "code",
   "execution_count": null,
   "id": "414cee86-d93f-4fbf-b16c-742e7b819bd5",
   "metadata": {},
   "outputs": [],
   "source": [
    "1) we use for loop when we have to itreate each and every item in the collection of list,array,tuple or set \n",
    "\n",
    "  While loop: A loop that executes a single statement or a group of statements for the given true condition. The keyword used to represent this loop is \"while\". A \"while\" loop is used when the number of iterations is unknown. The statement repeats itself till the boolean value becomes false. In a while loop, the condition is tested at the start, also known as the pre-test loop. Let's see the flow of the while loop:\n",
    "Initialise the starting value\n",
    "Check that the starting value is less than the stopping value.\n",
    "Execute the statement.\n",
    "Increment the starting value. Let’s see how the while loop works"
   ]
  },
  {
   "cell_type": "code",
   "execution_count": 19,
   "id": "8a44d69b-25ad-4ea3-83bd-f6195fcc3564",
   "metadata": {},
   "outputs": [
    {
     "name": "stdout",
     "output_type": "stream",
     "text": [
      "Number of vowel in the given string is  11\n"
     ]
    }
   ],
   "source": [
    "# Question 5\n",
    "\n",
    "string= \" I want to become a Data scientist\"\n",
    "\n",
    "count=0\n",
    "\n",
    "i=0\n",
    "\n",
    "for i in range (len(string)):\n",
    "    if(\n",
    "       ( string[i]==\"a\")\n",
    "        or\n",
    "       ( string[i]==\"e\")\n",
    "        or\n",
    "        (string[i]==\"i\")\n",
    "        or\n",
    "        (string[i]==\"o\")\n",
    "        or\n",
    "       ( string[i]==\"u\")\n",
    "    ):\n",
    "                \n",
    "        count +=1\n",
    "                \n",
    "print(\"Number of vowel in the given string is \", count)\n",
    "                \n",
    "\n",
    " \n",
    "\n",
    "\n"
   ]
  },
  {
   "cell_type": "code",
   "execution_count": 16,
   "id": "afcba7c0-1964-4ddb-beea-34104dde7ed7",
   "metadata": {},
   "outputs": [
    {
     "name": "stdin",
     "output_type": "stream",
     "text": [
      "Enter the unit 310\n"
     ]
    },
    {
     "name": "stdout",
     "output_type": "stream",
     "text": [
      "Bill after ading charges : 2250.0\n"
     ]
    }
   ],
   "source": [
    "# Question 3\n",
    "\n",
    "unit= int(input(\"Enter the unit\"))\n",
    "bill= 0                   \n",
    "if unit<=100:\n",
    "    bill=unit *4.5\n",
    "elif unit<=200:\n",
    "    bill= 100*4.5+(unts-100)*6\n",
    "elif unit<=300:\n",
    "     bill=100*4.5+200*6+(unit-200) * 10\n",
    "else:\n",
    "     bill= 100*4.5+100*6+100*10+(unit-300)*20\n",
    "print(\"Bill after ading charges :\",bill)\n",
    "\n",
    "                        "
   ]
  },
  {
   "cell_type": "code",
   "execution_count": 4,
   "id": "6d4ca617-e40b-47ad-ad33-81ea0440e313",
   "metadata": {},
   "outputs": [
    {
     "name": "stdin",
     "output_type": "stream",
     "text": [
      " Please Enter any numeric Value :  15\n"
     ]
    },
    {
     "name": "stdout",
     "output_type": "stream",
     "text": [
      "The Cube of a Given Number 15  = 3375\n"
     ]
    }
   ],
   "source": [
    "# Python Program to Calculate Cube of a Number\n",
    "\n",
    "number = int(input(\" Please Enter any numeric Value : \"))\n",
    "\n",
    "cube = number ** 3\n",
    "\n",
    "print(\"The Cube of a Given Number {0}  = {1}\".format(number, cube))"
   ]
  },
  {
   "cell_type": "code",
   "execution_count": 5,
   "id": "287fc336-8575-4344-816d-e7632e88e3fb",
   "metadata": {},
   "outputs": [
    {
     "name": "stdout",
     "output_type": "stream",
     "text": [
      "[2, 4, 5, 6, 8, 10, 12, 14, 15, 16, 18, 20, 22, 24, 25, 26, 28, 30, 32, 34, 35, 36, 38, 40, 42, 44, 45, 46, 48, 50, 52, 54, 55, 56, 58, 60, 62, 64, 65, 66, 68, 70, 72, 74, 75, 76, 78, 80, 82, 84, 85, 86, 88, 90, 92, 94, 95, 96, 98, 100]\n",
      "[2, 4, 5, 6, 8, 10, 12, 14, 15, 16, 18, 20, 22, 24, 25, 26, 28, 30, 32, 34, 35, 36, 38, 40, 42, 44, 45, 46, 48, 50, 52, 54, 55, 56, 58, 60, 62, 64, 65, 66, 68, 70, 72, 74, 75, 76, 78, 80, 82, 84, 85, 86, 88, 90, 92, 94, 95, 96, 98, 100]\n"
     ]
    }
   ],
   "source": [
    "# using for loop\n",
    "cube_divisible = []\n",
    "for num in range(1, 101):\n",
    "    cube = num ** 3\n",
    "    if cube % 4 == 0 or cube % 5 == 0:\n",
    "        cube_divisible.append(num)\n",
    "\n",
    "print(cube_divisible)\n",
    "\n",
    "# using while loop\n",
    "cube_divisible = []\n",
    "num = 1\n",
    "while num <= 100:\n",
    "    cube = num ** 3\n",
    "    if cube % 4 == 0 or cube % 5 == 0:\n",
    "        cube_divisible.append(num)\n",
    "    num += 1\n",
    "\n",
    "print(cube_divisible)\n"
   ]
  },
  {
   "cell_type": "code",
   "execution_count": 1,
   "id": "e3e0a9cb-5483-480e-b938-08d9272d73e3",
   "metadata": {},
   "outputs": [
    {
     "name": "stdout",
     "output_type": "stream",
     "text": [
      "a 4\n",
      "e 3\n",
      "i 3\n",
      "o 2\n",
      "u 0\n"
     ]
    }
   ],
   "source": [
    "string = \"I want to become a data scientist\"\n",
    "\n",
    "# Convert the string to lowercase\n",
    "string = string.lower()\n",
    "\n",
    "# Define a list of vowels\n",
    "vowels = ['a', 'e', 'i', 'o', 'u']\n",
    "\n",
    "# Initialize a dictionary to store the count of each vowel\n",
    "vowel_count = {vowel: 0 for vowel in vowels}\n",
    "\n",
    "# Loop over each character in the string\n",
    "for char in string:\n",
    "    # If the character is a vowel, increment its count in the dictionary\n",
    "    if char in vowels:\n",
    "        vowel_count[char] += 1\n",
    "\n",
    "# Print the count of each vowel\n",
    "for vowel, count in vowel_count.items():\n",
    "    print(vowel, count)\n"
   ]
  },
  {
   "cell_type": "code",
   "execution_count": null,
   "id": "c67dda45-6280-401d-a395-2e2e8b1ddf7c",
   "metadata": {},
   "outputs": [],
   "source": []
  }
 ],
 "metadata": {
  "kernelspec": {
   "display_name": "Python 3 (ipykernel)",
   "language": "python",
   "name": "python3"
  },
  "language_info": {
   "codemirror_mode": {
    "name": "ipython",
    "version": 3
   },
   "file_extension": ".py",
   "mimetype": "text/x-python",
   "name": "python",
   "nbconvert_exporter": "python",
   "pygments_lexer": "ipython3",
   "version": "3.10.8"
  }
 },
 "nbformat": 4,
 "nbformat_minor": 5
}
